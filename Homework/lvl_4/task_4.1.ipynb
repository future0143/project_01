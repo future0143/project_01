{
 "cells": [
  {
   "cell_type": "code",
   "execution_count": null,
   "metadata": {},
   "outputs": [],
   "source": [
    "# В базе данных teacher создайте таблицу Students\n",
    "\n",
    "# Структура таблицы: Student_Id - Integer, Student_Name - Text, School_Id - Integer (Primary key)\n",
    "\n",
    "# Наполните таблицу следующими данными:\n",
    "\n",
    "# 201, Иван, 1\n",
    "# 202, Петр, 2\n",
    "# 203, Анастасия, 3\n",
    "# 204, Игорь, 4\n",
    "\n",
    "# Напишите программу, с помощью которой по ID студента можно получать информацию о школе и студенте.\n",
    "\n",
    "# Формат вывода:\n",
    "\n",
    "# ID Студента:\n",
    "# Имя студента:\n",
    "# ID школы:\n",
    "# Название школы:"
   ]
  },
  {
   "cell_type": "code",
   "execution_count": 1,
   "metadata": {},
   "outputs": [],
   "source": [
    "import sqlite3\n",
    "\n",
    "connection = sqlite3.connect('teatchers.db')    \n",
    "cursor = connection.cursor()      \n",
    "sqlquery = '''CREATE TABLE Students (\n",
    "Student_Id INTEGER, \n",
    "Student_Name TEXT,\n",
    "School_Id INTEGER PRIMARY KEY);'''\n",
    "\n",
    "cursor.execute(sqlquery)     \n",
    "connection.commit()        \n",
    "connection.close() "
   ]
  },
  {
   "cell_type": "code",
   "execution_count": 2,
   "metadata": {},
   "outputs": [],
   "source": [
    "connection = sqlite3.connect('teatchers.db')    \n",
    "cursor = connection.cursor()      \n",
    "sqlquery = '''INSERT INTO Students \n",
    "VALUES \n",
    "(201, 'Иван', 1),\n",
    "(202, 'Петр', 2),\n",
    "(203, 'Анастасия', 3),\n",
    "(204, 'Игорь', 4);'''\n",
    "\n",
    "cursor.execute(sqlquery)     \n",
    "connection.commit()        \n",
    "connection.close()"
   ]
  },
  {
   "cell_type": "code",
   "execution_count": 3,
   "metadata": {},
   "outputs": [
    {
     "name": "stdout",
     "output_type": "stream",
     "text": [
      "[(202, 'Петр', 2, 'Преспектива')]\n",
      "ID студента:  202\n",
      "Имя студента:  Петр\n",
      "ID школы:  2\n",
      "Название школы:  Преспектива\n"
     ]
    }
   ],
   "source": [
    "import sqlite3\n",
    "\n",
    "def get_connection():\n",
    "    connection = sqlite3.connect('teatchers.db')\n",
    "    return connection\n",
    "\n",
    "def close_connection(connection):\n",
    "    if connection:       # если connection существует\n",
    "        connection.close()\n",
    "\n",
    "\n",
    "def get_student_detail(student_id):\n",
    "    try:\n",
    "        connection = get_connection()\n",
    "        cursor = connection.cursor()\n",
    "        sql_query = \"SELECT student_id, student_name, Students.School_Id, school_name FROM Students LEFT JOIN School ON School.School_Id=Students.School_Id WHERE Student_Id = ?\";\n",
    "        cursor.execute(sql_query, (student_id,))    \n",
    "        records = cursor.fetchall()\n",
    "        print(records)\n",
    "        for row in records:\n",
    "            print(\"ID студента: \", row[0])\n",
    "            print(\"Имя студента: \", row[1])\n",
    "            print(\"ID школы: \", row[2])\n",
    "            print(\"Название школы: \", row[3])\n",
    "        close_connection(connection)\n",
    "    except (Exception, sqlite3.Error) as error:\n",
    "        print(\"Ошибка в получении данных \", error)\n",
    "\n",
    "\n",
    "get_student_detail(202)"
   ]
  }
 ],
 "metadata": {
  "kernelspec": {
   "display_name": "project01",
   "language": "python",
   "name": "python3"
  },
  "language_info": {
   "codemirror_mode": {
    "name": "ipython",
    "version": 3
   },
   "file_extension": ".py",
   "mimetype": "text/x-python",
   "name": "python",
   "nbconvert_exporter": "python",
   "pygments_lexer": "ipython3",
   "version": "3.11.3"
  },
  "orig_nbformat": 4
 },
 "nbformat": 4,
 "nbformat_minor": 2
}
